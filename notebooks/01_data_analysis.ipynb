{
 "cells": [
  {
   "cell_type": "markdown",
   "metadata": {},
   "source": [
    "# Domain Suggestion LLM - Experimentation\n",
    "\n",
    "This notebook contains experiments and analysis for the domain suggestion LLM project."
   ]
  },
  {
   "cell_type": "code",
   "execution_count": null,
   "metadata": {},
   "outputs": [],
   "source": [
    "# Import required libraries\n",
    "import json\n",
    "import pandas as pd\n",
    "import matplotlib.pyplot as plt\n",
    "import seaborn as sns\n",
    "from collections import Counter\n",
    "\n",
    "# Load the data\n",
    "with open('../data/train_data.json', 'r') as f:\n",
    "    train_data = json.load(f)\n",
    "    \n",
    "with open('../data/eval_data.json', 'r') as f:\n",
    "    eval_data = json.load(f)\n",
    "\n",
    "print(f\"Training samples: {len(train_data)}\")\n",
    "print(f\"Evaluation samples: {len(eval_data)}\")"
   ]
  },
  {
   "cell_type": "code",
   "execution_count": null,
   "metadata": {},
   "outputs": [],
   "source": [
    "# Analyze the data\n",
    "\n",
    "# Distribution of number of suggestions per business description\n",
    "num_suggestions_train = [len(item['suggestions']) for item in train_data]\n",
    "num_suggestions_eval = [len(item['suggestions']) for item in eval_data]\n",
    "\n",
    "plt.figure(figsize=(12, 5))\n",
    "\n",
    "plt.subplot(1, 2, 1)\n",
    "plt.hist(num_suggestions_train, bins=range(1, 7), alpha=0.7, color='blue')\n",
    "plt.title('Training Data: Number of Suggestions per Business')\n",
    "plt.xlabel('Number of Suggestions')\n",
    "plt.ylabel('Frequency')\n",
    "\n",
    "plt.subplot(1, 2, 2)\n",
    "plt.hist(num_suggestions_eval, bins=range(1, 7), alpha=0.7, color='green')\n",
    "plt.title('Evaluation Data: Number of Suggestions per Business')\n",
    "plt.xlabel('Number of Suggestions')\n",
    "plt.ylabel('Frequency')\n",
    "\n",
    "plt.tight_layout()\n",
    "plt.show()\n",
    "\n",
    "print(f\"Average suggestions (train): {sum(num_suggestions_train) / len(num_suggestions_train):.2f}\")\n",
    "print(f\"Average suggestions (eval): {sum(num_suggestions_eval) / len(num_suggestions_eval):.2f}\")"
   ]
  },
  {
   "cell_type": "code",
   "execution_count": null,
   "metadata": {},
   "outputs": [],
   "source": [
    "# Analyze domain extensions\n",
    "def extract_extension(domain):\n",
    "    if '.' in domain:\n",
    "        return '.' + domain.split('.')[-1]\n",
    "    return 'no_extension'\n",
    "\n",
    "# Collect all domains\n",
    "all_domains_train = [suggestion['domain'] for item in train_data for suggestion in item['suggestions']]\n",
    "all_domains_eval = [suggestion['domain'] for item in eval_data for suggestion in item['suggestions']]\n",
    "\n",
    "# Extract extensions\n",
    "extensions_train = [extract_extension(domain) for domain in all_domains_train]\n",
    "extensions_eval = [extract_extension(domain) for domain in all_domains_eval]\n",
    "\n",
    "# Count extensions\n",
    "extension_counts_train = Counter(extensions_train)\n",
    "extension_counts_eval = Counter(extensions_eval)\n",
    "\n",
    "plt.figure(figsize=(12, 5))\n",
    "\n",
    "plt.subplot(1, 2, 1)\n",
    "plt.bar(extension_counts_train.keys(), extension_counts_train.values(), color='blue', alpha=0.7)\n",
    "plt.title('Training Data: Domain Extensions')\n",
    "plt.xlabel('Extension')\n",
    "plt.ylabel('Count')\n",
    "plt.xticks(rotation=45)\n",
    "\n",
    "plt.subplot(1, 2, 2)\n",
    "plt.bar(extension_counts_eval.keys(), extension_counts_eval.values(), color='green', alpha=0.7)\n",
    "plt.title('Evaluation Data: Domain Extensions')\n",
    "plt.xlabel('Extension')\n",
    "plt.ylabel('Count')\n",
    "plt.xticks(rotation=45)\n",
    "\n",
    "plt.tight_layout()\n",
    "plt.show()"
   ]
  },
  {
   "cell_type": "code",
   "execution_count": null,
   "metadata": {},
   "outputs": [],
   "source": [
    "# Analyze confidence scores\n",
    "confidence_scores_train = [suggestion['confidence'] for item in train_data for suggestion in item['suggestions']]\n",
    "confidence_scores_eval = [suggestion['confidence'] for item in eval_data for suggestion in item['suggestions']]\n",
    "\n",
    "plt.figure(figsize=(12, 5))\n",
    "\n",
    "plt.subplot(1, 2, 1)\n",
    "plt.hist(confidence_scores_train, bins=20, alpha=0.7, color='blue')\n",
    "plt.title('Training Data: Confidence Score Distribution')\n",
    "plt.xlabel('Confidence Score')\n",
    "plt.ylabel('Frequency')\n",
    "\n",
    "plt.subplot(1, 2, 2)\n",
    "plt.hist(confidence_scores_eval, bins=20, alpha=0.7, color='green')\n",
    "plt.title('Evaluation Data: Confidence Score Distribution')\n",
    "plt.xlabel('Confidence Score')\n",
    "plt.ylabel('Frequency')\n",
    "\n",
    "plt.tight_layout()\n",
    "plt.show()\n",
    "\n",
    "print(f\"Average confidence (train): {sum(confidence_scores_train) / len(confidence_scores_train):.2f}\")\n",
    "print(f\"Average confidence (eval): {sum(confidence_scores_eval) / len(confidence_scores_eval):.2f}\")"
   ]
  },
  {
   "cell_type": "code",
   "execution_count": null,
   "metadata": {},
   "outputs": [],
   "source": [
    "# Sample some business descriptions\n",
    "print(\"Sample Business Descriptions from Training Data:\")\n",
    "for i in range(5):\n",
    "    print(f\"{i+1}. {train_data[i]['business_description']}\")\n",
    "    for j, suggestion in enumerate(train_data[i]['suggestions']):\n",
    "        print(f\"   {j+1}. {suggestion['domain']} (confidence: {suggestion['confidence']})\")\n",
    "    print()"
   ]
  }
 ],
 "metadata": {
  "kernelspec": {
   "display_name": "Python 3",
   "language": "python",
   "name": "python3"
  },
  "language_info": {
   "name": "python",
   "version": "3.8.0"
  }
 },
 "nbformat": 4,
 "nbformat_minor": 4
}