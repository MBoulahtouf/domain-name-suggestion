{
 "cells": [
  {
   "cell_type": "markdown",
   "metadata": {},
   "source": [
    "# Domain Suggestion API Demo\n",
    "\n",
    "This notebook demonstrates how to use the Domain Suggestion API."
   ]
  },
  {
   "cell_type": "code",
   "execution_count": null,
   "metadata": {},
   "outputs": [],
   "source": [
    "import requests\n",
    "import json\n",
    "\n",
    "# API endpoint (adjust if running on a different host/port)\n",
    "API_BASE_URL = \"http://localhost:8000\"\n",
    "\n",
    "print(\"Domain Suggestion API Demo\")\n",
    "print(f\"API Base URL: {API_BASE_URL}\")"
   ]
  },
  {
   "cell_type": "code",
   "execution_count": null,
   "metadata": {},
   "outputs": [],
   "source": [
    "# Test the root endpoint\n",
    "try:\n",
    "    response = requests.get(f\"{API_BASE_URL}/\")\n",
    "    if response.status_code == 200:\n",
    "        print(\"API is running successfully!\")\n",
    "        print(\"API Info:\", response.json())\n",
    "    else:\n",
    "        print(f\"Error: {response.status_code}\")\n",
    "        print(response.text)\n",
    "except requests.exceptions.RequestException as e:\n",
    "    print(f\"Error connecting to API: {e}\")\n",
    "    print(\"Please make sure the API is running.\")"
   ]
  },
  {
   "cell_type": "code",
   "execution_count": null,
   "metadata": {},
   "outputs": [],
   "source": [
    "# Test the domain suggestion endpoint\n",
    "def suggest_domains(business_description):\n",
    "    \"\"\"Get domain suggestions for a business description.\"\"\"\n",
    "    url = f\"{API_BASE_URL}/suggest\"\n",
    "    payload = {\n",
    "        \"business_description\": business_description\n",
    "    }\n",
    "    \n",
    "    try:\n",
    "        response = requests.post(url, json=payload)\n",
    "        if response.status_code == 200:\n",
    "            return response.json()\n",
    "        else:\n",
    "            print(f\"Error: {response.status_code}\")\n",
    "            print(response.text)\n",
    "            return None\n",
    "    except requests.exceptions.RequestException as e:\n",
    "        print(f\"Error connecting to API: {e}\")\n",
    "        return None\n",
    "\n",
    "# Test with a sample business description\n",
    "business_desc = \"organic coffee shop in downtown area\"\n",
    "print(f\"\\nRequest: {business_desc}\")\n",
    "\n",
    "result = suggest_domains(business_desc)\n",
    "if result:\n",
    "    print(f\"Status: {result['status']}\")\n",
    "    if result['status'] == 'success':\n",
    "        print(\"\\nDomain Suggestions:\")\n",
    "        for i, suggestion in enumerate(result['suggestions'], 1):\n",
    "            print(f\"  {i}. {suggestion['domain']} (confidence: {suggestion['confidence']})\")\n",
    "    elif 'message' in result:\n",
    "        print(f\"Message: {result['message']}\")"
   ]
  },
  {
   "cell_type": "code",
   "execution_count": null,
   "metadata": {},
   "outputs": [],
   "source": [
    "# Test the safety feature with inappropriate content\n",
    "inappropriate_desc = \"adult content website with explicit nude content\"\n",
    "print(f\"\\nSafety Test Request: {inappropriate_desc}\")\n",
    "\n",
    "result = suggest_domains(inappropriate_desc)\n",
    "if result:\n",
    "    print(f\"Status: {result['status']}\")\n",
    "    if result['status'] == 'success':\n",
    "        print(\"\\nDomain Suggestions:\")\n",
    "        for i, suggestion in enumerate(result['suggestions'], 1):\n",
    "            print(f\"  {i}. {suggestion['domain']} (confidence: {suggestion['confidence']})\")\n",
    "    elif 'message' in result:\n",
    "        print(f\"Message: {result['message']}\")"
   ]
  },
  {
   "cell_type": "code",
   "execution_count": null,
   "metadata": {},
   "outputs": [],
   "source": [
    "# Test with various business descriptions\n",
    "test_descriptions = [\n",
    "    \"tech startup for artificial intelligence solutions\",\n",
    "    \"eco-friendly clothing boutique\",\n",
    "    \"fitness center for busy professionals\",\n",
    "    \"photography studio specializing in weddings\",\n",
    "    \"bookstore with coffee bar\"\n",
    "]\n",
    "\n",
    "print(\"\\nTesting multiple business descriptions:\")\n",
    "for desc in test_descriptions:\n",
    "    print(f\"\\nBusiness: {desc}\")\n",
    "    result = suggest_domains(desc)\n",
    "    if result and result['status'] == 'success':\n",
    "        # Show only the top suggestion\n",
    "        top_suggestion = result['suggestions'][0]\n",
    "        print(f\"  Top suggestion: {top_suggestion['domain']} (confidence: {top_suggestion['confidence']})\")\n",
    "    elif result and 'message' in result:\n",
    "        print(f\"  Message: {result['message']}\")"
   ]
  }
 ],
 "metadata": {
  "kernelspec": {
   "display_name": "Python 3",
   "language": "python",
   "name": "python3"
  },
  "language_info": {
   "name": "python",
   "version": "3.8.0"
  }
 },
 "nbformat": 4,
 "nbformat_minor": 4
}